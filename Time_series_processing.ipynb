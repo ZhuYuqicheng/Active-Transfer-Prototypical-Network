{
 "cells": [
  {
   "cell_type": "markdown",
   "metadata": {},
   "source": [
    "# Processing the time series data"
   ]
  },
  {
   "cell_type": "code",
   "execution_count": 1,
   "metadata": {},
   "outputs": [],
   "source": [
    "import numpy as np\n",
    "import pandas as pd\n",
    "import matplotlib.pyplot as plt"
   ]
  },
  {
   "cell_type": "code",
   "execution_count": 2,
   "metadata": {},
   "outputs": [],
   "source": [
    "def normalization(x):\n",
    "    return (x-np.mean(x))/np.std(x)\n",
    "\n",
    "def GenerateImage(original):\n",
    "    image = []\n",
    "    for data_frame in original.values():\n",
    "        X_element = np.stack([normalization(data_frame.iloc[index,:]) for index in range(len(data_frame))], axis=0)\n",
    "        image.append(X_element)\n",
    "    image = np.stack(image, axis=1)\n",
    "    return image"
   ]
  },
  {
   "cell_type": "code",
   "execution_count": 3,
   "metadata": {},
   "outputs": [],
   "source": [
    "# load training set\n",
    "X_train_original = dict()\n",
    "X_train_original[\"body_acc_x_train\"] = pd.read_table(\"./UCI HAR Dataset/train/Inertial Signals/body_acc_x_train.txt\", delim_whitespace=True, header=None)\n",
    "X_train_original[\"body_acc_y_train\"] = pd.read_table(\"./UCI HAR Dataset/train/Inertial Signals/body_acc_y_train.txt\", delim_whitespace=True, header=None)\n",
    "X_train_original[\"body_acc_z_train\"] = pd.read_table(\"./UCI HAR Dataset/train/Inertial Signals/body_acc_z_train.txt\", delim_whitespace=True, header=None)\n",
    "X_train_original[\"body_gyro_x_train\"] = pd.read_table(\"./UCI HAR Dataset/train/Inertial Signals/body_gyro_x_train.txt\", delim_whitespace=True, header=None)\n",
    "X_train_original[\"body_gyro_y_train\"] = pd.read_table(\"./UCI HAR Dataset/train/Inertial Signals/body_gyro_y_train.txt\", delim_whitespace=True, header=None)\n",
    "X_train_original[\"body_gyro_z_train\"] = pd.read_table(\"./UCI HAR Dataset/train/Inertial Signals/body_gyro_z_train.txt\", delim_whitespace=True, header=None)\n",
    "X_train_original[\"total_acc_x_train\"] = pd.read_table(\"./UCI HAR Dataset/train/Inertial Signals/total_acc_x_train.txt\", delim_whitespace=True, header=None)\n",
    "X_train_original[\"total_acc_y_train\"] = pd.read_table(\"./UCI HAR Dataset/train/Inertial Signals/total_acc_y_train.txt\", delim_whitespace=True, header=None)\n",
    "X_train_original[\"total_acc_z_train\"] = pd.read_table(\"./UCI HAR Dataset/train/Inertial Signals/total_acc_z_train.txt\", delim_whitespace=True, header=None)\n",
    "# load test set\n",
    "X_test_original = dict()\n",
    "X_test_original[\"body_acc_x_test\"] = pd.read_table(\"./UCI HAR Dataset/test/Inertial Signals/body_acc_x_test.txt\", delim_whitespace=True, header=None)\n",
    "X_test_original[\"body_acc_y_test\"] = pd.read_table(\"./UCI HAR Dataset/test/Inertial Signals/body_acc_y_test.txt\", delim_whitespace=True, header=None)\n",
    "X_test_original[\"body_acc_z_test\"] = pd.read_table(\"./UCI HAR Dataset/test/Inertial Signals/body_acc_z_test.txt\", delim_whitespace=True, header=None)\n",
    "X_test_original[\"body_gyro_x_test\"] = pd.read_table(\"./UCI HAR Dataset/test/Inertial Signals/body_gyro_x_test.txt\", delim_whitespace=True, header=None)\n",
    "X_test_original[\"body_gyro_y_test\"] = pd.read_table(\"./UCI HAR Dataset/test/Inertial Signals/body_gyro_y_test.txt\", delim_whitespace=True, header=None)\n",
    "X_test_original[\"body_gyro_z_test\"] = pd.read_table(\"./UCI HAR Dataset/test/Inertial Signals/body_gyro_z_test.txt\", delim_whitespace=True, header=None)\n",
    "X_test_original[\"total_acc_x_test\"] = pd.read_table(\"./UCI HAR Dataset/test/Inertial Signals/total_acc_x_test.txt\", delim_whitespace=True, header=None)\n",
    "X_test_original[\"total_acc_y_test\"] = pd.read_table(\"./UCI HAR Dataset/test/Inertial Signals/total_acc_y_test.txt\", delim_whitespace=True, header=None)\n",
    "X_test_original[\"total_acc_z_test\"] = pd.read_table(\"./UCI HAR Dataset/test/Inertial Signals/total_acc_z_test.txt\", delim_whitespace=True, header=None)"
   ]
  },
  {
   "cell_type": "code",
   "execution_count": 4,
   "metadata": {},
   "outputs": [],
   "source": [
    "X_train = GenerateImage(X_train_original)\n",
    "X_test = GenerateImage(X_test_original)"
   ]
  },
  {
   "cell_type": "code",
   "execution_count": 7,
   "metadata": {},
   "outputs": [],
   "source": [
    "with open('X_train.npy', 'wb') as f:\n",
    "    np.save(f, X_train)\n",
    "with open('X_test.npy', 'wb') as f:\n",
    "    np.save(f, X_test)"
   ]
  }
 ],
 "metadata": {
  "interpreter": {
   "hash": "c457c1bb00a46f16b86021fb5587bd66967ff67b33a9004ea71cf5283fcd661e"
  },
  "kernelspec": {
   "display_name": "Python 3.6.13 64-bit ('GNNAL': conda)",
   "language": "python",
   "name": "python3"
  },
  "language_info": {
   "codemirror_mode": {
    "name": "ipython",
    "version": 3
   },
   "file_extension": ".py",
   "mimetype": "text/x-python",
   "name": "python",
   "nbconvert_exporter": "python",
   "pygments_lexer": "ipython3",
   "version": "3.6.13"
  },
  "orig_nbformat": 4
 },
 "nbformat": 4,
 "nbformat_minor": 2
}
